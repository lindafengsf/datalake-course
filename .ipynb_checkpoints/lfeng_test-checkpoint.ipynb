{
 "cells": [
  {
   "cell_type": "markdown",
   "metadata": {},
   "source": [
    "# Welcome to my test notebook\n",
    "\n",
    "This is a tutorial on datalakes."
   ]
  },
  {
   "cell_type": "markdown",
   "metadata": {},
   "source": [
    "# Prepare\n",
    "\n"
   ]
  },
  {
   "cell_type": "code",
   "execution_count": 2,
   "metadata": {},
   "outputs": [
    {
     "name": "stdout",
     "output_type": "stream",
     "text": [
      "Requirement already satisfied: pandas in /srv/conda/envs/notebook/lib/python3.7/site-packages (1.1.4)\n",
      "Requirement already satisfied: pytz>=2017.2 in /srv/conda/envs/notebook/lib/python3.7/site-packages (from pandas) (2020.4)\n",
      "Requirement already satisfied: numpy>=1.15.4 in /srv/conda/envs/notebook/lib/python3.7/site-packages (from pandas) (1.19.4)\n",
      "Requirement already satisfied: python-dateutil>=2.7.3 in /srv/conda/envs/notebook/lib/python3.7/site-packages (from pandas) (2.8.1)\n",
      "Requirement already satisfied: six>=1.5 in /srv/conda/envs/notebook/lib/python3.7/site-packages (from python-dateutil>=2.7.3->pandas) (1.15.0)\n",
      "Requirement already satisfied: numpy in /srv/conda/envs/notebook/lib/python3.7/site-packages (1.19.4)\n"
     ]
    },
    {
     "data": {
      "text/plain": [
       "'1.1.4'"
      ]
     },
     "execution_count": 2,
     "metadata": {},
     "output_type": "execute_result"
    }
   ],
   "source": [
    "!pip install pandas\n",
    "!pip install numpy\n",
    "\n",
    "import pandas as pd\n",
    "import numpy as np\n",
    "\n",
    "pd.__version__"
   ]
  },
  {
   "cell_type": "markdown",
   "metadata": {},
   "source": [
    "# Part 1: Load Raw Dataset\n",
    "\n"
   ]
  },
  {
   "cell_type": "code",
   "execution_count": 11,
   "metadata": {},
   "outputs": [],
   "source": [
    "courses_df=pd.read_csv(\"courses.csv\")\n",
    "users_df=pd.read_csv(\"users.csv\")\n",
    "caliper_df=pd.read_csv(\"TestCaliperEventData.csv\")"
   ]
  },
  {
   "cell_type": "code",
   "execution_count": 5,
   "metadata": {},
   "outputs": [
    {
     "data": {
      "text/plain": [
       "Index(['sourcedId', 'status', 'dateLastModified', 'schoolYearSourcedId',\n",
       "       'title', 'courseCode', 'grades', 'orgSourcedId', 'subjects',\n",
       "       'subjectCodes'],\n",
       "      dtype='object')"
      ]
     },
     "execution_count": 5,
     "metadata": {},
     "output_type": "execute_result"
    }
   ],
   "source": [
    "courses_df.columns"
   ]
  },
  {
   "cell_type": "code",
   "execution_count": 6,
   "metadata": {},
   "outputs": [
    {
     "data": {
      "text/html": [
       "<div>\n",
       "<style scoped>\n",
       "    .dataframe tbody tr th:only-of-type {\n",
       "        vertical-align: middle;\n",
       "    }\n",
       "\n",
       "    .dataframe tbody tr th {\n",
       "        vertical-align: top;\n",
       "    }\n",
       "\n",
       "    .dataframe thead th {\n",
       "        text-align: right;\n",
       "    }\n",
       "</style>\n",
       "<table border=\"1\" class=\"dataframe\">\n",
       "  <thead>\n",
       "    <tr style=\"text-align: right;\">\n",
       "      <th></th>\n",
       "      <th>sourcedId</th>\n",
       "      <th>status</th>\n",
       "      <th>dateLastModified</th>\n",
       "      <th>schoolYearSourcedId</th>\n",
       "      <th>title</th>\n",
       "      <th>courseCode</th>\n",
       "      <th>grades</th>\n",
       "      <th>orgSourcedId</th>\n",
       "      <th>subjects</th>\n",
       "      <th>subjectCodes</th>\n",
       "    </tr>\n",
       "  </thead>\n",
       "  <tbody>\n",
       "    <tr>\n",
       "      <th>0</th>\n",
       "      <td>COURSE_01</td>\n",
       "      <td>active</td>\n",
       "      <td>2016-04-30T00:00:00Z</td>\n",
       "      <td>NaN</td>\n",
       "      <td>ADVANCED PLACEMENT WORLD HISTORY</td>\n",
       "      <td>NaN</td>\n",
       "      <td>NaN</td>\n",
       "      <td>ORG_01</td>\n",
       "      <td>NaN</td>\n",
       "      <td>NaN</td>\n",
       "    </tr>\n",
       "  </tbody>\n",
       "</table>\n",
       "</div>"
      ],
      "text/plain": [
       "   sourcedId  status      dateLastModified  schoolYearSourcedId  \\\n",
       "0  COURSE_01  active  2016-04-30T00:00:00Z                  NaN   \n",
       "\n",
       "                              title  courseCode  grades orgSourcedId  \\\n",
       "0  ADVANCED PLACEMENT WORLD HISTORY         NaN     NaN       ORG_01   \n",
       "\n",
       "   subjects  subjectCodes  \n",
       "0       NaN           NaN  "
      ]
     },
     "execution_count": 6,
     "metadata": {},
     "output_type": "execute_result"
    }
   ],
   "source": [
    "courses_df.head()"
   ]
  },
  {
   "cell_type": "code",
   "execution_count": 7,
   "metadata": {},
   "outputs": [
    {
     "data": {
      "text/plain": [
       "Index(['sourcedId', 'status', 'dateLastModified', 'enabledUser',\n",
       "       'orgSourcedIds', 'role', 'username', 'userIds', 'givenName',\n",
       "       'familyName', 'middleName', 'identifier', 'email', 'sms', 'phone',\n",
       "       'agentSourcedIds', 'grades', 'password'],\n",
       "      dtype='object')"
      ]
     },
     "execution_count": 7,
     "metadata": {},
     "output_type": "execute_result"
    }
   ],
   "source": [
    "users_df.columns"
   ]
  },
  {
   "cell_type": "code",
   "execution_count": 8,
   "metadata": {},
   "outputs": [
    {
     "data": {
      "text/html": [
       "<div>\n",
       "<style scoped>\n",
       "    .dataframe tbody tr th:only-of-type {\n",
       "        vertical-align: middle;\n",
       "    }\n",
       "\n",
       "    .dataframe tbody tr th {\n",
       "        vertical-align: top;\n",
       "    }\n",
       "\n",
       "    .dataframe thead th {\n",
       "        text-align: right;\n",
       "    }\n",
       "</style>\n",
       "<table border=\"1\" class=\"dataframe\">\n",
       "  <thead>\n",
       "    <tr style=\"text-align: right;\">\n",
       "      <th></th>\n",
       "      <th>sourcedId</th>\n",
       "      <th>status</th>\n",
       "      <th>dateLastModified</th>\n",
       "      <th>enabledUser</th>\n",
       "      <th>orgSourcedIds</th>\n",
       "      <th>role</th>\n",
       "      <th>username</th>\n",
       "      <th>userIds</th>\n",
       "      <th>givenName</th>\n",
       "      <th>familyName</th>\n",
       "      <th>middleName</th>\n",
       "      <th>identifier</th>\n",
       "      <th>email</th>\n",
       "      <th>sms</th>\n",
       "      <th>phone</th>\n",
       "      <th>agentSourcedIds</th>\n",
       "      <th>grades</th>\n",
       "      <th>password</th>\n",
       "    </tr>\n",
       "  </thead>\n",
       "  <tbody>\n",
       "    <tr>\n",
       "      <th>0</th>\n",
       "      <td>student_01</td>\n",
       "      <td>active</td>\n",
       "      <td>2016-04-30T00:00:00Z</td>\n",
       "      <td>True</td>\n",
       "      <td>ORG_01</td>\n",
       "      <td>student</td>\n",
       "      <td>153792</td>\n",
       "      <td>NaN</td>\n",
       "      <td>Clark</td>\n",
       "      <td>Kent</td>\n",
       "      <td>NaN</td>\n",
       "      <td>NaN</td>\n",
       "      <td>NaN</td>\n",
       "      <td>NaN</td>\n",
       "      <td>NaN</td>\n",
       "      <td>NaN</td>\n",
       "      <td>NaN</td>\n",
       "      <td></td>\n",
       "    </tr>\n",
       "  </tbody>\n",
       "</table>\n",
       "</div>"
      ],
      "text/plain": [
       "    sourcedId  status      dateLastModified  enabledUser orgSourcedIds  \\\n",
       "0  student_01  active  2016-04-30T00:00:00Z         True        ORG_01   \n",
       "\n",
       "      role  username  userIds givenName familyName  middleName  identifier  \\\n",
       "0  student    153792      NaN     Clark       Kent         NaN         NaN   \n",
       "\n",
       "   email  sms  phone  agentSourcedIds  grades password  \n",
       "0    NaN  NaN    NaN              NaN     NaN           "
      ]
     },
     "execution_count": 8,
     "metadata": {},
     "output_type": "execute_result"
    }
   ],
   "source": [
    "users_df.head()"
   ]
  },
  {
   "cell_type": "code",
   "execution_count": 12,
   "metadata": {},
   "outputs": [
    {
     "data": {
      "text/plain": [
       "Index(['data[0].actor.id', 'data[0].actor.type',\n",
       "       'data[0].extensions[\"com.instructure.canvas\"].job_id',\n",
       "       'data[0].extensions[\"com.instructure.canvas\"].job_tag',\n",
       "       'data[0].extensions[\"com.instructure.canvas\"].version',\n",
       "       'data[0].eventtime', 'data[0].context', 'data[0].action', 'data[0].id',\n",
       "       'data[0].type',\n",
       "       ...\n",
       "       'data[0].generated.maxscore.numberstr',\n",
       "       'data[0].generated.attempt.extensions[\"com.instructure.canvas\"].grade',\n",
       "       'data[0].generated.attempt.id', 'data[0].generated.attempt.assignee.id',\n",
       "       'data[0].generated.attempt.assignee.type',\n",
       "       'data[0].generated.attempt.type',\n",
       "       'data[0].generated.attempt.assignable.id',\n",
       "       'data[0].generated.attempt.assignable.type',\n",
       "       'data[0].object.extensions[\"com.instructure.canvas\"].grade',\n",
       "       'data[0].object.extensions[\"com.instructure.canvas\"].is_announcement'],\n",
       "      dtype='object', length=104)"
      ]
     },
     "execution_count": 12,
     "metadata": {},
     "output_type": "execute_result"
    }
   ],
   "source": [
    "caliper_df.columns"
   ]
  },
  {
   "cell_type": "code",
   "execution_count": 13,
   "metadata": {},
   "outputs": [
    {
     "data": {
      "text/html": [
       "<div>\n",
       "<style scoped>\n",
       "    .dataframe tbody tr th:only-of-type {\n",
       "        vertical-align: middle;\n",
       "    }\n",
       "\n",
       "    .dataframe tbody tr th {\n",
       "        vertical-align: top;\n",
       "    }\n",
       "\n",
       "    .dataframe thead th {\n",
       "        text-align: right;\n",
       "    }\n",
       "</style>\n",
       "<table border=\"1\" class=\"dataframe\">\n",
       "  <thead>\n",
       "    <tr style=\"text-align: right;\">\n",
       "      <th></th>\n",
       "      <th>data[0].actor.id</th>\n",
       "      <th>data[0].actor.type</th>\n",
       "      <th>data[0].extensions[\"com.instructure.canvas\"].job_id</th>\n",
       "      <th>data[0].extensions[\"com.instructure.canvas\"].job_tag</th>\n",
       "      <th>data[0].extensions[\"com.instructure.canvas\"].version</th>\n",
       "      <th>data[0].eventtime</th>\n",
       "      <th>data[0].context</th>\n",
       "      <th>data[0].action</th>\n",
       "      <th>data[0].id</th>\n",
       "      <th>data[0].type</th>\n",
       "      <th>...</th>\n",
       "      <th>data[0].generated.maxscore.numberstr</th>\n",
       "      <th>data[0].generated.attempt.extensions[\"com.instructure.canvas\"].grade</th>\n",
       "      <th>data[0].generated.attempt.id</th>\n",
       "      <th>data[0].generated.attempt.assignee.id</th>\n",
       "      <th>data[0].generated.attempt.assignee.type</th>\n",
       "      <th>data[0].generated.attempt.type</th>\n",
       "      <th>data[0].generated.attempt.assignable.id</th>\n",
       "      <th>data[0].generated.attempt.assignable.type</th>\n",
       "      <th>data[0].object.extensions[\"com.instructure.canvas\"].grade</th>\n",
       "      <th>data[0].object.extensions[\"com.instructure.canvas\"].is_announcement</th>\n",
       "    </tr>\n",
       "  </thead>\n",
       "  <tbody>\n",
       "    <tr>\n",
       "      <th>0</th>\n",
       "      <td>urn:instructure:canvas:user:97140000000000002</td>\n",
       "      <td>Person</td>\n",
       "      <td>NaN</td>\n",
       "      <td>NaN</td>\n",
       "      <td>1.0.0</td>\n",
       "      <td>2020-05-16T23:53:46.458Z</td>\n",
       "      <td>http://purl.imsglobal.org/ctx/caliper/v1p1</td>\n",
       "      <td>NavigatedTo</td>\n",
       "      <td>urn:uuid:72954eea-6d21-43d3-a2bd-078787cadb50</td>\n",
       "      <td>NavigationEvent</td>\n",
       "      <td>...</td>\n",
       "      <td>NaN</td>\n",
       "      <td>NaN</td>\n",
       "      <td>NaN</td>\n",
       "      <td>NaN</td>\n",
       "      <td>NaN</td>\n",
       "      <td>NaN</td>\n",
       "      <td>NaN</td>\n",
       "      <td>NaN</td>\n",
       "      <td>NaN</td>\n",
       "      <td>NaN</td>\n",
       "    </tr>\n",
       "    <tr>\n",
       "      <th>1</th>\n",
       "      <td>urn:instructure:canvas:user:97140000000000002</td>\n",
       "      <td>Person</td>\n",
       "      <td>NaN</td>\n",
       "      <td>NaN</td>\n",
       "      <td>1.0.0</td>\n",
       "      <td>2020-05-16T23:52:08.261Z</td>\n",
       "      <td>http://purl.imsglobal.org/ctx/caliper/v1p1</td>\n",
       "      <td>NavigatedTo</td>\n",
       "      <td>urn:uuid:c6866ebb-e903-44d0-bdd0-c3eda086cfbd</td>\n",
       "      <td>NavigationEvent</td>\n",
       "      <td>...</td>\n",
       "      <td>NaN</td>\n",
       "      <td>NaN</td>\n",
       "      <td>NaN</td>\n",
       "      <td>NaN</td>\n",
       "      <td>NaN</td>\n",
       "      <td>NaN</td>\n",
       "      <td>NaN</td>\n",
       "      <td>NaN</td>\n",
       "      <td>NaN</td>\n",
       "      <td>NaN</td>\n",
       "    </tr>\n",
       "    <tr>\n",
       "      <th>2</th>\n",
       "      <td>urn:instructure:canvas:user:97140000000000002</td>\n",
       "      <td>Person</td>\n",
       "      <td>NaN</td>\n",
       "      <td>NaN</td>\n",
       "      <td>1.0.0</td>\n",
       "      <td>2020-05-16T23:51:21.834Z</td>\n",
       "      <td>http://purl.imsglobal.org/ctx/caliper/v1p1</td>\n",
       "      <td>NavigatedTo</td>\n",
       "      <td>urn:uuid:be5a5c5f-bae5-4e74-8108-600b55799434</td>\n",
       "      <td>NavigationEvent</td>\n",
       "      <td>...</td>\n",
       "      <td>NaN</td>\n",
       "      <td>NaN</td>\n",
       "      <td>NaN</td>\n",
       "      <td>NaN</td>\n",
       "      <td>NaN</td>\n",
       "      <td>NaN</td>\n",
       "      <td>NaN</td>\n",
       "      <td>NaN</td>\n",
       "      <td>NaN</td>\n",
       "      <td>NaN</td>\n",
       "    </tr>\n",
       "    <tr>\n",
       "      <th>3</th>\n",
       "      <td>urn:instructure:canvas:user:97140000000000002</td>\n",
       "      <td>Person</td>\n",
       "      <td>NaN</td>\n",
       "      <td>NaN</td>\n",
       "      <td>1.0.0</td>\n",
       "      <td>2020-05-16T23:50:53.034Z</td>\n",
       "      <td>http://purl.imsglobal.org/ctx/caliper/v1p1</td>\n",
       "      <td>NavigatedTo</td>\n",
       "      <td>urn:uuid:8bf9a081-e64a-4ab8-83e6-a6115bf9ec37</td>\n",
       "      <td>NavigationEvent</td>\n",
       "      <td>...</td>\n",
       "      <td>NaN</td>\n",
       "      <td>NaN</td>\n",
       "      <td>NaN</td>\n",
       "      <td>NaN</td>\n",
       "      <td>NaN</td>\n",
       "      <td>NaN</td>\n",
       "      <td>NaN</td>\n",
       "      <td>NaN</td>\n",
       "      <td>NaN</td>\n",
       "      <td>NaN</td>\n",
       "    </tr>\n",
       "    <tr>\n",
       "      <th>4</th>\n",
       "      <td>urn:instructure:canvas:user:97140000000000002</td>\n",
       "      <td>Person</td>\n",
       "      <td>NaN</td>\n",
       "      <td>NaN</td>\n",
       "      <td>1.0.0</td>\n",
       "      <td>2020-05-16T23:50:46.238Z</td>\n",
       "      <td>http://purl.imsglobal.org/ctx/caliper/v1p1</td>\n",
       "      <td>NavigatedTo</td>\n",
       "      <td>urn:uuid:be55da62-b037-4d36-8da7-dbbb89d4c79b</td>\n",
       "      <td>NavigationEvent</td>\n",
       "      <td>...</td>\n",
       "      <td>NaN</td>\n",
       "      <td>NaN</td>\n",
       "      <td>NaN</td>\n",
       "      <td>NaN</td>\n",
       "      <td>NaN</td>\n",
       "      <td>NaN</td>\n",
       "      <td>NaN</td>\n",
       "      <td>NaN</td>\n",
       "      <td>NaN</td>\n",
       "      <td>NaN</td>\n",
       "    </tr>\n",
       "  </tbody>\n",
       "</table>\n",
       "<p>5 rows × 104 columns</p>\n",
       "</div>"
      ],
      "text/plain": [
       "                                data[0].actor.id data[0].actor.type  \\\n",
       "0  urn:instructure:canvas:user:97140000000000002             Person   \n",
       "1  urn:instructure:canvas:user:97140000000000002             Person   \n",
       "2  urn:instructure:canvas:user:97140000000000002             Person   \n",
       "3  urn:instructure:canvas:user:97140000000000002             Person   \n",
       "4  urn:instructure:canvas:user:97140000000000002             Person   \n",
       "\n",
       "   data[0].extensions[\"com.instructure.canvas\"].job_id  \\\n",
       "0                                                NaN     \n",
       "1                                                NaN     \n",
       "2                                                NaN     \n",
       "3                                                NaN     \n",
       "4                                                NaN     \n",
       "\n",
       "   data[0].extensions[\"com.instructure.canvas\"].job_tag  \\\n",
       "0                                                NaN      \n",
       "1                                                NaN      \n",
       "2                                                NaN      \n",
       "3                                                NaN      \n",
       "4                                                NaN      \n",
       "\n",
       "  data[0].extensions[\"com.instructure.canvas\"].version  \\\n",
       "0                                              1.0.0     \n",
       "1                                              1.0.0     \n",
       "2                                              1.0.0     \n",
       "3                                              1.0.0     \n",
       "4                                              1.0.0     \n",
       "\n",
       "          data[0].eventtime                             data[0].context  \\\n",
       "0  2020-05-16T23:53:46.458Z  http://purl.imsglobal.org/ctx/caliper/v1p1   \n",
       "1  2020-05-16T23:52:08.261Z  http://purl.imsglobal.org/ctx/caliper/v1p1   \n",
       "2  2020-05-16T23:51:21.834Z  http://purl.imsglobal.org/ctx/caliper/v1p1   \n",
       "3  2020-05-16T23:50:53.034Z  http://purl.imsglobal.org/ctx/caliper/v1p1   \n",
       "4  2020-05-16T23:50:46.238Z  http://purl.imsglobal.org/ctx/caliper/v1p1   \n",
       "\n",
       "  data[0].action                                     data[0].id  \\\n",
       "0    NavigatedTo  urn:uuid:72954eea-6d21-43d3-a2bd-078787cadb50   \n",
       "1    NavigatedTo  urn:uuid:c6866ebb-e903-44d0-bdd0-c3eda086cfbd   \n",
       "2    NavigatedTo  urn:uuid:be5a5c5f-bae5-4e74-8108-600b55799434   \n",
       "3    NavigatedTo  urn:uuid:8bf9a081-e64a-4ab8-83e6-a6115bf9ec37   \n",
       "4    NavigatedTo  urn:uuid:be55da62-b037-4d36-8da7-dbbb89d4c79b   \n",
       "\n",
       "      data[0].type  ...  data[0].generated.maxscore.numberstr  \\\n",
       "0  NavigationEvent  ...                                   NaN   \n",
       "1  NavigationEvent  ...                                   NaN   \n",
       "2  NavigationEvent  ...                                   NaN   \n",
       "3  NavigationEvent  ...                                   NaN   \n",
       "4  NavigationEvent  ...                                   NaN   \n",
       "\n",
       "   data[0].generated.attempt.extensions[\"com.instructure.canvas\"].grade  \\\n",
       "0                                                NaN                      \n",
       "1                                                NaN                      \n",
       "2                                                NaN                      \n",
       "3                                                NaN                      \n",
       "4                                                NaN                      \n",
       "\n",
       "  data[0].generated.attempt.id data[0].generated.attempt.assignee.id  \\\n",
       "0                          NaN                                   NaN   \n",
       "1                          NaN                                   NaN   \n",
       "2                          NaN                                   NaN   \n",
       "3                          NaN                                   NaN   \n",
       "4                          NaN                                   NaN   \n",
       "\n",
       "  data[0].generated.attempt.assignee.type data[0].generated.attempt.type  \\\n",
       "0                                     NaN                            NaN   \n",
       "1                                     NaN                            NaN   \n",
       "2                                     NaN                            NaN   \n",
       "3                                     NaN                            NaN   \n",
       "4                                     NaN                            NaN   \n",
       "\n",
       "  data[0].generated.attempt.assignable.id  \\\n",
       "0                                     NaN   \n",
       "1                                     NaN   \n",
       "2                                     NaN   \n",
       "3                                     NaN   \n",
       "4                                     NaN   \n",
       "\n",
       "  data[0].generated.attempt.assignable.type  \\\n",
       "0                                       NaN   \n",
       "1                                       NaN   \n",
       "2                                       NaN   \n",
       "3                                       NaN   \n",
       "4                                       NaN   \n",
       "\n",
       "  data[0].object.extensions[\"com.instructure.canvas\"].grade  \\\n",
       "0                                                NaN          \n",
       "1                                                NaN          \n",
       "2                                                NaN          \n",
       "3                                                NaN          \n",
       "4                                                NaN          \n",
       "\n",
       "  data[0].object.extensions[\"com.instructure.canvas\"].is_announcement  \n",
       "0                                                NaN                   \n",
       "1                                                NaN                   \n",
       "2                                                NaN                   \n",
       "3                                                NaN                   \n",
       "4                                                NaN                   \n",
       "\n",
       "[5 rows x 104 columns]"
      ]
     },
     "execution_count": 13,
     "metadata": {},
     "output_type": "execute_result"
    }
   ],
   "source": [
    "caliper_df.head()"
   ]
  },
  {
   "cell_type": "markdown",
   "metadata": {},
   "source": [
    "# Part 2: Clean and combine\n",
    "\n"
   ]
  },
  {
   "cell_type": "code",
   "execution_count": null,
   "metadata": {},
   "outputs": [],
   "source": []
  },
  {
   "cell_type": "markdown",
   "metadata": {},
   "source": [
    "# Part 3: Query\n",
    "\n"
   ]
  },
  {
   "cell_type": "code",
   "execution_count": null,
   "metadata": {},
   "outputs": [],
   "source": []
  }
 ],
 "metadata": {
  "kernelspec": {
   "display_name": "Python 3",
   "language": "python",
   "name": "python3"
  },
  "language_info": {
   "codemirror_mode": {
    "name": "ipython",
    "version": 3
   },
   "file_extension": ".py",
   "mimetype": "text/x-python",
   "name": "python",
   "nbconvert_exporter": "python",
   "pygments_lexer": "ipython3",
   "version": "3.6.5"
  }
 },
 "nbformat": 4,
 "nbformat_minor": 4
}
