{
 "cells": [
  {
   "cell_type": "code",
   "execution_count": 1,
   "metadata": {},
   "outputs": [
    {
     "data": {
      "text/plain": [
       "'1.1.4'"
      ]
     },
     "execution_count": 1,
     "metadata": {},
     "output_type": "execute_result"
    }
   ],
   "source": [
    "import pandas as pd\n",
    "import numpy as np\n",
    "\n",
    "pd.__version__"
   ]
  },
  {
   "cell_type": "code",
   "execution_count": 4,
   "metadata": {},
   "outputs": [],
   "source": [
    "courses_df=pd.read_csv(\"dataset/courses.csv\")\n",
    "users_df=pd.read_csv(\"dataset/users.csv\")\n",
    "activity_df=pd.read_csv(\"dataset/activity.csv\")"
   ]
  },
  {
   "cell_type": "code",
   "execution_count": 6,
   "metadata": {},
   "outputs": [
    {
     "data": {
      "text/html": [
       "<div>\n",
       "<style scoped>\n",
       "    .dataframe tbody tr th:only-of-type {\n",
       "        vertical-align: middle;\n",
       "    }\n",
       "\n",
       "    .dataframe tbody tr th {\n",
       "        vertical-align: top;\n",
       "    }\n",
       "\n",
       "    .dataframe thead th {\n",
       "        text-align: right;\n",
       "    }\n",
       "</style>\n",
       "<table border=\"1\" class=\"dataframe\">\n",
       "  <thead>\n",
       "    <tr style=\"text-align: right;\">\n",
       "      <th></th>\n",
       "      <th>courseId</th>\n",
       "      <th>courseTitle</th>\n",
       "      <th>description</th>\n",
       "      <th>academicSession</th>\n",
       "      <th>org</th>\n",
       "      <th>modality</th>\n",
       "    </tr>\n",
       "  </thead>\n",
       "  <tbody>\n",
       "    <tr>\n",
       "      <th>0</th>\n",
       "      <td>1</td>\n",
       "      <td>Introduction to Algebra</td>\n",
       "      <td>Fundamental concepts of algebra, including exp...</td>\n",
       "      <td>Fall2020</td>\n",
       "      <td>MATH</td>\n",
       "      <td>f2f</td>\n",
       "    </tr>\n",
       "    <tr>\n",
       "      <th>1</th>\n",
       "      <td>2</td>\n",
       "      <td>Biology 101</td>\n",
       "      <td>Study of biology as it relates to humans and t...</td>\n",
       "      <td>Fall2020</td>\n",
       "      <td>BIOL</td>\n",
       "      <td>online</td>\n",
       "    </tr>\n",
       "    <tr>\n",
       "      <th>2</th>\n",
       "      <td>3</td>\n",
       "      <td>Intro to Python Programming</td>\n",
       "      <td>A first course in computer programming using t...</td>\n",
       "      <td>Fall2020</td>\n",
       "      <td>COMPSCI</td>\n",
       "      <td>hybrid</td>\n",
       "    </tr>\n",
       "    <tr>\n",
       "      <th>3</th>\n",
       "      <td>4</td>\n",
       "      <td>History of Ancient Civilizations</td>\n",
       "      <td>In this course, we will study the emergence of...</td>\n",
       "      <td>Fall2020</td>\n",
       "      <td>HIST</td>\n",
       "      <td>hybrid</td>\n",
       "    </tr>\n",
       "  </tbody>\n",
       "</table>\n",
       "</div>"
      ],
      "text/plain": [
       "   courseId                       courseTitle  \\\n",
       "0         1           Introduction to Algebra   \n",
       "1         2                       Biology 101   \n",
       "2         3       Intro to Python Programming   \n",
       "3         4  History of Ancient Civilizations   \n",
       "\n",
       "                                         description academicSession      org  \\\n",
       "0  Fundamental concepts of algebra, including exp...        Fall2020     MATH   \n",
       "1  Study of biology as it relates to humans and t...        Fall2020     BIOL   \n",
       "2  A first course in computer programming using t...        Fall2020  COMPSCI   \n",
       "3  In this course, we will study the emergence of...        Fall2020     HIST   \n",
       "\n",
       "  modality  \n",
       "0      f2f  \n",
       "1   online  \n",
       "2   hybrid  \n",
       "3   hybrid  "
      ]
     },
     "execution_count": 6,
     "metadata": {},
     "output_type": "execute_result"
    }
   ],
   "source": [
    "courses_df.head()"
   ]
  },
  {
   "cell_type": "code",
   "execution_count": 7,
   "metadata": {},
   "outputs": [
    {
     "data": {
      "text/html": [
       "<div>\n",
       "<style scoped>\n",
       "    .dataframe tbody tr th:only-of-type {\n",
       "        vertical-align: middle;\n",
       "    }\n",
       "\n",
       "    .dataframe tbody tr th {\n",
       "        vertical-align: top;\n",
       "    }\n",
       "\n",
       "    .dataframe thead th {\n",
       "        text-align: right;\n",
       "    }\n",
       "</style>\n",
       "<table border=\"1\" class=\"dataframe\">\n",
       "  <thead>\n",
       "    <tr style=\"text-align: right;\">\n",
       "      <th></th>\n",
       "      <th>userId</th>\n",
       "      <th>FirstName</th>\n",
       "      <th>LastName</th>\n",
       "      <th>Role</th>\n",
       "      <th>email</th>\n",
       "      <th>year</th>\n",
       "    </tr>\n",
       "  </thead>\n",
       "  <tbody>\n",
       "    <tr>\n",
       "      <th>0</th>\n",
       "      <td>1001</td>\n",
       "      <td>Tom</td>\n",
       "      <td>Grove</td>\n",
       "      <td>Learner</td>\n",
       "      <td>tgrove@email.edu</td>\n",
       "      <td>1.0</td>\n",
       "    </tr>\n",
       "    <tr>\n",
       "      <th>1</th>\n",
       "      <td>1002</td>\n",
       "      <td>Lily</td>\n",
       "      <td>Chen</td>\n",
       "      <td>Learner</td>\n",
       "      <td>lchen@email.edu</td>\n",
       "      <td>NaN</td>\n",
       "    </tr>\n",
       "    <tr>\n",
       "      <th>2</th>\n",
       "      <td>1003</td>\n",
       "      <td>Jim</td>\n",
       "      <td>Folsom</td>\n",
       "      <td>Learner</td>\n",
       "      <td>jim.folsom@email.edu</td>\n",
       "      <td>2.0</td>\n",
       "    </tr>\n",
       "    <tr>\n",
       "      <th>3</th>\n",
       "      <td>1004</td>\n",
       "      <td>Dan</td>\n",
       "      <td>Rivera</td>\n",
       "      <td>Learner</td>\n",
       "      <td>rivera_dan@email.edu</td>\n",
       "      <td>1.0</td>\n",
       "    </tr>\n",
       "    <tr>\n",
       "      <th>4</th>\n",
       "      <td>1005</td>\n",
       "      <td>Brenda</td>\n",
       "      <td>Ulloa</td>\n",
       "      <td>Learner</td>\n",
       "      <td>brendau@email.edu</td>\n",
       "      <td>NaN</td>\n",
       "    </tr>\n",
       "  </tbody>\n",
       "</table>\n",
       "</div>"
      ],
      "text/plain": [
       "   userId FirstName LastName     Role                 email  year\n",
       "0    1001       Tom    Grove  Learner      tgrove@email.edu   1.0\n",
       "1    1002      Lily     Chen  Learner       lchen@email.edu   NaN\n",
       "2    1003       Jim   Folsom  Learner  jim.folsom@email.edu   2.0\n",
       "3    1004      Dan    Rivera  Learner  rivera_dan@email.edu   1.0\n",
       "4    1005   Brenda     Ulloa  Learner     brendau@email.edu   NaN"
      ]
     },
     "execution_count": 7,
     "metadata": {},
     "output_type": "execute_result"
    }
   ],
   "source": [
    "users_df.head()"
   ]
  },
  {
   "cell_type": "code",
   "execution_count": 8,
   "metadata": {},
   "outputs": [
    {
     "data": {
      "text/html": [
       "<div>\n",
       "<style scoped>\n",
       "    .dataframe tbody tr th:only-of-type {\n",
       "        vertical-align: middle;\n",
       "    }\n",
       "\n",
       "    .dataframe tbody tr th {\n",
       "        vertical-align: top;\n",
       "    }\n",
       "\n",
       "    .dataframe thead th {\n",
       "        text-align: right;\n",
       "    }\n",
       "</style>\n",
       "<table border=\"1\" class=\"dataframe\">\n",
       "  <thead>\n",
       "    <tr style=\"text-align: right;\">\n",
       "      <th></th>\n",
       "      <th>timestamp (YYYY-MM-DD HH:MI:SS)</th>\n",
       "      <th>actor</th>\n",
       "      <th>action</th>\n",
       "      <th>object</th>\n",
       "      <th>course</th>\n",
       "    </tr>\n",
       "  </thead>\n",
       "  <tbody>\n",
       "    <tr>\n",
       "      <th>0</th>\n",
       "      <td>2020-10-30 6:30:00</td>\n",
       "      <td>1001</td>\n",
       "      <td>viewed</td>\n",
       "      <td>/syllabus</td>\n",
       "      <td>2</td>\n",
       "    </tr>\n",
       "    <tr>\n",
       "      <th>1</th>\n",
       "      <td>2020-10-30 6:31:00</td>\n",
       "      <td>1001</td>\n",
       "      <td>viewed</td>\n",
       "      <td>/module1</td>\n",
       "      <td>2</td>\n",
       "    </tr>\n",
       "    <tr>\n",
       "      <th>2</th>\n",
       "      <td>2020-10-30 6:43:00</td>\n",
       "      <td>1001</td>\n",
       "      <td>viewed</td>\n",
       "      <td>/assignment1</td>\n",
       "      <td>2</td>\n",
       "    </tr>\n",
       "    <tr>\n",
       "      <th>3</th>\n",
       "      <td>2020-10-30 6:50:00</td>\n",
       "      <td>1001</td>\n",
       "      <td>viewed</td>\n",
       "      <td>/calendar</td>\n",
       "      <td>2</td>\n",
       "    </tr>\n",
       "    <tr>\n",
       "      <th>4</th>\n",
       "      <td>2020-10-31 10:10:20</td>\n",
       "      <td>1001</td>\n",
       "      <td>viewed</td>\n",
       "      <td>/syllabus</td>\n",
       "      <td>2</td>\n",
       "    </tr>\n",
       "  </tbody>\n",
       "</table>\n",
       "</div>"
      ],
      "text/plain": [
       "  timestamp (YYYY-MM-DD HH:MI:SS)  actor  action        object  course\n",
       "0              2020-10-30 6:30:00   1001  viewed     /syllabus       2\n",
       "1              2020-10-30 6:31:00   1001  viewed      /module1       2\n",
       "2              2020-10-30 6:43:00   1001  viewed  /assignment1       2\n",
       "3              2020-10-30 6:50:00   1001  viewed     /calendar       2\n",
       "4             2020-10-31 10:10:20   1001  viewed     /syllabus       2"
      ]
     },
     "execution_count": 8,
     "metadata": {},
     "output_type": "execute_result"
    }
   ],
   "source": [
    "activity_df.head()"
   ]
  },
  {
   "cell_type": "code",
   "execution_count": null,
   "metadata": {},
   "outputs": [],
   "source": []
  }
 ],
 "metadata": {
  "kernelspec": {
   "display_name": "Python 3",
   "language": "python",
   "name": "python3"
  },
  "language_info": {
   "codemirror_mode": {
    "name": "ipython",
    "version": 3
   },
   "file_extension": ".py",
   "mimetype": "text/x-python",
   "name": "python",
   "nbconvert_exporter": "python",
   "pygments_lexer": "ipython3",
   "version": "3.6.5"
  }
 },
 "nbformat": 4,
 "nbformat_minor": 4
}
